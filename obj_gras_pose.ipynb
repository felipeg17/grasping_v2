{
 "cells": [
  {
   "cell_type": "markdown",
   "metadata": {},
   "source": [
    "Imports"
   ]
  },
  {
   "cell_type": "code",
   "execution_count": 1,
   "metadata": {},
   "outputs": [
    {
     "name": "stderr",
     "output_type": "stream",
     "text": [
      "2022-05-19 08:44:03.159052: W tensorflow/stream_executor/platform/default/dso_loader.cc:64] Could not load dynamic library 'libcudart.so.11.0'; dlerror: libcudart.so.11.0: cannot open shared object file: No such file or directory; LD_LIBRARY_PATH: /opt/ros/noetic/lib:/opt/ros/noetic/lib/x86_64-linux-gnu\n",
      "2022-05-19 08:44:03.159083: I tensorflow/stream_executor/cuda/cudart_stub.cc:29] Ignore above cudart dlerror if you do not have a GPU set up on your machine.\n"
     ]
    }
   ],
   "source": [
    "#! /usr/bin/env python\n",
    "# general\n",
    "import os\n",
    "import sys\n",
    "import math\n",
    "import copy\n",
    "import time\n",
    "import glob\n",
    "import random\n",
    "import io\n",
    "import argparse\n",
    "\n",
    "# torch\n",
    "import torch\n",
    "import torch.backends.cudnn as cudnn\n",
    "\n",
    "# scypy\n",
    "import scipy.misc\n",
    "import scipy.ndimage as ndimage\n",
    "\n",
    "# tensorflow\n",
    "import tensorflow as tf\n",
    "\n",
    "# math - display\n",
    "from matplotlib import pyplot as plt\n",
    "import numpy as np\n",
    "\n",
    "# cv\n",
    "import cv2\n",
    "import imageio\n",
    "from cv_bridge import CvBridge, CvBridgeError\n",
    "from PIL import Image, ImageDraw, ImageFont\n",
    "# import open3d as o3d\n",
    "from six import BytesIO\n",
    "from IPython.display import display, Javascript\n",
    "from IPython.display import Image as IPyImage\n",
    "\n",
    "# ROS\n",
    "import rospy\n",
    "from sensor_msgs.msg import Image\n",
    "from std_msgs.msg import Float64\n",
    "\n",
    "# Robotics\n",
    "import roboticstoolbox as rtb\n",
    "from spatialmath import *\n",
    "from spatialmath.base import *\n",
    "\n",
    "# yolov5 \n",
    "# from models.common import DetectMultiBackend\n",
    "# from utils.datasets import IMG_FORMATS, VID_FORMATS, LoadImages, LoadStreams\n",
    "# from utils.general import (LOGGER, check_file, check_img_size, check_imshow, check_requirements, colorstr,\n",
    "                        #    increment_path, non_max_suppression, print_args, scale_coords, strip_optimizer, xyxy2xywh)\n",
    "# from utils.torch_utils import select_device, time_sync\n",
    "# from utils.plots import Annotator, colors, save_one_roi\n",
    "\n",
    "# ggcnnv2 imports\n",
    "from ggcnn.models import ggcnn2\n",
    "from ggcnn.utils.dataset_processing import grasp, image, evaluation1\n",
    "from ggcnn.utils.dataset_processing.grasp import GraspRectangle\n",
    "from ggcnn.models.common import post_process_output\n",
    "from ggcnn.utils.timeit import TimeIt\n",
    "\n",
    "# agnostic segmentation\n",
    "from agnostic_segmentation import agnostic_segmentation\n",
    "# from agnostic_segmentation import compute_grasp\n",
    "\n",
    "# object detection\n",
    "from object_detection.utils import label_map_util\n",
    "from object_detection.utils import config_util\n",
    "from object_detection.utils import visualization_utils as viz_utils\n",
    "from object_detection.builders import model_builder"
   ]
  },
  {
   "cell_type": "markdown",
   "metadata": {},
   "source": [
    "Clases"
   ]
  },
  {
   "cell_type": "code",
   "execution_count": 2,
   "metadata": {},
   "outputs": [],
   "source": [
    "class GetRosImage:\n",
    "    def __init__(self):\n",
    "        self.bridge = CvBridge()\n",
    "        self.image_received = False\n",
    "        # Connect image topic\n",
    "        # rgb_topic = \"/camera/color/image_raw\"\n",
    "        rgb_topic = \"/cam/color/image_raw\"\n",
    "        self.image_sub = rospy.Subscriber(rgb_topic, Image, self.callback_rgb)\n",
    "        # depth_topic = \"/camera/depth/image_rect_raw\"\n",
    "        depth_topic = 'cam/depth/image_raw'\n",
    "        self.depth_sub = rospy.Subscriber(depth_topic, Image, self.callback_depth)\n",
    "        # Allow up to one second to connection\n",
    "        rospy.sleep(0.5)\n",
    "\n",
    "    def callback_rgb(self, data):\n",
    "        # Convert image to OpenCV format\n",
    "        try:\n",
    "            rgb_image = self.bridge.imgmsg_to_cv2(data, \"bgr8\")\n",
    "        except CvBridgeError as e:\n",
    "            print(e)\n",
    "        self.image_received = True\n",
    "        self.rgb_image = rgb_image\n",
    "    \n",
    "    def callback_depth(self, data):\n",
    "        try:\n",
    "            depth_image = self.bridge.imgmsg_to_cv2(data, desired_encoding=\"32FC1\")\n",
    "        except CvBridgeError as e:\n",
    "            print(e)\n",
    "        self.depth_image = depth_image\n",
    "\n",
    "    def take_picture(self, save=True):\n",
    "        if self.image_received:\n",
    "            if save == True:\n",
    "                cv2.imwrite('rgb.jpg', self.rgb_image)\n",
    "                cv2.imwrite('depth.tiff',cv2.normalize(self.depth_image,self.depth_image,0,255,cv2.NORM_MINMAX))\n",
    "                cv2.imwrite('depth.jpg',cv2.normalize(self.depth_image,self.depth_image,0,255,cv2.NORM_MINMAX))\n",
    "            return (self.rgb_image, self.depth_image)\n",
    "        else:\n",
    "            return False"
   ]
  },
  {
   "cell_type": "markdown",
   "metadata": {},
   "source": [
    "Funciones"
   ]
  },
  {
   "cell_type": "code",
   "execution_count": 3,
   "metadata": {},
   "outputs": [],
   "source": [
    "def grasp_img_preprocessing(depth_crop):\n",
    "    with TimeIt('1'):\n",
    "       depth_crop = cv2.copyMakeBorder(depth_crop, 1, 1, 1, 1, cv2.BORDER_DEFAULT)\n",
    "       depth_nan_mask = np.isnan(depth_crop).astype(np.uint8)\n",
    "       depth_crop[0,0]\n",
    "       print(depth_crop.shape)\n",
    "    with TimeIt('2'):\n",
    "       depth_crop[depth_nan_mask==1] = 0\n",
    "    # Value normalization [-1 1]\n",
    "    with TimeIt('3'):\n",
    "       depth_scale = np.abs(depth_crop).max()\n",
    "       depth_crop = depth_crop.astype(np.float32) / depth_scale \n",
    "    # Remove scratches\n",
    "    # with TimeIt('Inpainting'):\n",
    "       # depth_crop = cv2.inpaint(depth_crop, depth_nan_mask, 1, cv2.INPAINT_NS)\n",
    "    # Remove border and rescalate the image\n",
    "    depth_crop = depth_crop[1:-1, 1:-1] \n",
    "    depth_crop = depth_crop * depth_scale\n",
    "    depth = depth_crop\n",
    "    depth = np.clip((depth - depth.mean()), -1, 1)\n",
    "    # depthn = depth.copy()\n",
    "    # Convert depth_img to a torch tensor \n",
    "    depthT = torch.from_numpy(depth.reshape(1, 1, depth.shape[0], depth.shape[1]).astype(np.float32)).to(device2)\n",
    "    return (depthT, depth)\n",
    "\n",
    "def grasp_prediction(depthT, filters=(5.0, 4.0, 2.0)):\n",
    "   # Grasp Predictions\n",
    "   with torch.no_grad():\n",
    "      pred_out = model2(depthT)\n",
    "   # Convert TorchTensor to NP array for manipulation and  filtering\n",
    "   # Quality\n",
    "   points_out = pred_out[0].cpu().numpy().squeeze() \n",
    "   # Yaw angle\n",
    "   cos_out = pred_out[1].cpu().numpy().squeeze()\n",
    "   sin_out = pred_out[2].cpu().numpy().squeeze()\n",
    "   ang_out = np.arctan2(sin_out, cos_out) / 2.0 \n",
    "   # Gripper apperture\n",
    "   width_out = pred_out[3].cpu().numpy().squeeze() * 70.0  # Scaled 0-150:0-1\n",
    "\n",
    "   # Filters to smoothing\n",
    "   points_out = ndimage.filters.gaussian_filter(points_out, filters[0])  # 3.0\n",
    "   ang_out = ndimage.filters.gaussian_filter(ang_out, filters[1])\n",
    "   width_out = ndimage.filters.gaussian_filter(width_out, filters[2])\n",
    "   points_out = np.clip(points_out, 0.0, 1.0-1e-3)\n",
    "   return (points_out, ang_out, width_out)\n",
    "\n",
    "def draw_angled_rec(x0, y0, width, height, angle, color, img):\n",
    "    _angle = angle * math.pi / 180.0\n",
    "    b = math.cos(_angle) * 0.5\n",
    "    a = math.sin(_angle) * 0.5\n",
    "    pt0 = (int(x0 - a * height - b * width),\n",
    "           int(y0 + b * height - a * width))\n",
    "    pt1 = (int(x0 + a * height - b * width),\n",
    "           int(y0 - b * height - a * width))\n",
    "    pt2 = (int(2 * x0 - pt0[0]), int(2 * y0 - pt0[1]))\n",
    "    pt3 = (int(2 * x0 - pt1[0]), int(2 * y0 - pt1[1]))\n",
    "\n",
    "    cv2.line(img, pt0, pt1, (), 1)\n",
    "    cv2.line(img, pt1, pt2, color, 1)\n",
    "    cv2.line(img, pt2, pt3, color, 1)\n",
    "    cv2.line(img, pt3, pt0, color, 1)\n",
    "    plt.imshow(img)\n",
    "    plt.show()\n"
   ]
  },
  {
   "cell_type": "markdown",
   "metadata": {},
   "source": [
    "File load"
   ]
  },
  {
   "cell_type": "code",
   "execution_count": 45,
   "metadata": {},
   "outputs": [
    {
     "name": "stdout",
     "output_type": "stream",
     "text": [
      "Saved image\n"
     ]
    }
   ],
   "source": [
    "from_ros = True\n",
    "if from_ros == True:\n",
    "    rospy.init_node('take_photo', anonymous=True)\n",
    "    camera = GetRosImage()\n",
    "    camera_result = camera.take_picture()\n",
    "    if isinstance(camera_result,tuple):\n",
    "        rgb_img, depth_img = camera_result\n",
    "        print(\"Saved image\")\n",
    "    else:\n",
    "        print(\"No images received\")"
   ]
  },
  {
   "cell_type": "markdown",
   "metadata": {},
   "source": [
    "Retinanet"
   ]
  },
  {
   "cell_type": "code",
   "execution_count": null,
   "metadata": {},
   "outputs": [],
   "source": []
  },
  {
   "cell_type": "markdown",
   "metadata": {},
   "source": [
    "Agnostic"
   ]
  },
  {
   "cell_type": "code",
   "execution_count": 4,
   "metadata": {},
   "outputs": [],
   "source": [
    "from_file = True\n",
    "img_path = 'rgb6.jpg'\n",
    "if from_file == True:\n",
    "    rgb_img = cv2.imread(img_path)"
   ]
  },
  {
   "cell_type": "code",
   "execution_count": 5,
   "metadata": {},
   "outputs": [
    {
     "name": "stdout",
     "output_type": "stream",
     "text": [
      "[[192 159 268 234]\n",
      " [ 43   0 295 116]\n",
      " [406 283 436 321]\n",
      " [339 246 376 284]\n",
      " [206 232 262 263]\n",
      " [368 201 447 260]\n",
      " [197 285 241 321]]\n"
     ]
    }
   ],
   "source": [
    "###################################################################################################\n",
    "# Agnostic segmentation\n",
    "###################################################################################################\n",
    "model_path = '/home/felipe/code/APC/grasping/models/FAT_trained_Ml2R_bin_fine_tuned.pth'\n",
    "# Predicciones\n",
    "predictions = agnostic_segmentation.segment_image(rgb_img, model_path, 0.4)\n",
    "# Bounding boxes -> List of np arrays with the box [x0 y0 x1 y1]\n",
    "boxes = predictions['instances'].pred_boxes.tensor\n",
    "boxes_np = boxes.cpu().detach().numpy().astype(int)\n",
    "# Masks -> List of np arrays binary matriz [0's backgorud 1's object]\n",
    "masks = predictions['instances'].pred_masks\n",
    "# To visulize the detected objects\n",
    "seg_img = agnostic_segmentation.draw_segmented_image(rgb_img, predictions)\n",
    "print(boxes_np)"
   ]
  },
  {
   "cell_type": "code",
   "execution_count": null,
   "metadata": {},
   "outputs": [],
   "source": [
    "# TODO usar mascara para rellenar\n",
    "# TODO revisar orden de detección de objetos\n",
    "# TODO print todas las regiones detectadas con titulo y orden"
   ]
  },
  {
   "cell_type": "code",
   "execution_count": 6,
   "metadata": {},
   "outputs": [
    {
     "name": "stdout",
     "output_type": "stream",
     "text": [
      "7\n"
     ]
    }
   ],
   "source": [
    "%matplotlib qt\n",
    "num_detects = boxes_np.shape[0]\n",
    "print(num_detects)\n",
    "for i in range(0,num_detects):\n",
    "    roi = boxes_np[i]\n",
    "    plt.subplot(num_detects,3,3*i+1)\n",
    "    plt.imshow(seg_img[:,:,::-1])\n",
    "    plt.gca().set_title('Global')\n",
    "    plt.axis('off')\n",
    "    plt.subplot(num_detects,3,3*i+2)\n",
    "    plt.imshow(rgb_img[roi[1]:roi[3], roi[0]:roi[2]][:,:,::-1])\n",
    "    plt.gca().set_title('Segmented no.'+str(i+1))\n",
    "    plt.axis('off')\n",
    "    plt.subplot(num_detects,3,3*i+3)\n",
    "    plt.imshow(masks[i].cpu().detach().numpy()[boxes_np[i][1]:boxes_np[i][3],\n",
    "    boxes_np[i][0]:boxes_np[i][2]], cmap='gray')\n",
    "    plt.gca().set_title('Mask no. '+str(i+1))\n",
    "    plt.axis('off')\n",
    "plt.show()\n"
   ]
  },
  {
   "cell_type": "code",
   "execution_count": 10,
   "metadata": {},
   "outputs": [
    {
     "name": "stdout",
     "output_type": "stream",
     "text": [
      "[275 184 446 355]\n"
     ]
    },
    {
     "data": {
      "image/png": "[encoded data removed]",
      "text/plain": [
       "<Figure size 432x288 with 3 Axes>"
      ]
     },
     "metadata": {
      "needs_background": "light"
     },
     "output_type": "display_data"
    }
   ],
   "source": [
    "%matplotlib inline\n",
    "# Object selection\n",
    "box_index = 3\n",
    "# Zoom % aroun the bounding box\n",
    "zoom_h = 0.25\n",
    "zoom_w = 0.75*zoom_h\n",
    "# ROI selection\n",
    "roi = (boxes_np[box_index]*np.array([1-zoom_w, 1-zoom_h, 1+zoom_w, 1+zoom_h])).astype(int)\n",
    "print(roi)\n",
    "# Plotting\n",
    "plt.subplot(1,3,1)\n",
    "plt.imshow(seg_img[:,:,::-1])\n",
    "plt.axis('off')\n",
    "plt.subplot(1,3,2)\n",
    "plt.imshow(rgb_img[roi[1]:roi[3], roi[0]:roi[2]][:,:,::-1])\n",
    "plt.axis('off')\n",
    "plt.subplot(1,3,3)\n",
    "plt.imshow(masks[box_index].cpu().detach().numpy()[boxes_np[box_index][1]:boxes_np[box_index][3],\n",
    "boxes_np[box_index][0]:boxes_np[box_index][2]], cmap='gray')\n",
    "plt.axis('off')\n",
    "plt.show()"
   ]
  },
  {
   "cell_type": "code",
   "execution_count": 28,
   "metadata": {},
   "outputs": [
    {
     "data": {
      "text/plain": [
       "(300, 300)"
      ]
     },
     "execution_count": 28,
     "metadata": {},
     "output_type": "execute_result"
    }
   ],
   "source": [
    "(roi[3]-roi[1],roi[2]-roi[0])"
   ]
  },
  {
   "cell_type": "code",
   "execution_count": 33,
   "metadata": {},
   "outputs": [
    {
     "data": {
      "text/plain": [
       "array([339, 246, 376, 284])"
      ]
     },
     "execution_count": 33,
     "metadata": {},
     "output_type": "execute_result"
    }
   ],
   "source": [
    "boxes_np[3]"
   ]
  },
  {
   "cell_type": "code",
   "execution_count": 34,
   "metadata": {},
   "outputs": [
    {
     "data": {
      "text/plain": [
       "(38, 37)"
      ]
     },
     "execution_count": 34,
     "metadata": {},
     "output_type": "execute_result"
    }
   ],
   "source": [
    "boxes_np[3][3]-boxes_np[3][1],boxes_np[3][2]-boxes_np[3][0]"
   ]
  },
  {
   "cell_type": "code",
   "execution_count": 27,
   "metadata": {},
   "outputs": [
    {
     "data": {
      "text/plain": [
       "[115, 254, 415, 554]"
      ]
     },
     "execution_count": 27,
     "metadata": {},
     "output_type": "execute_result"
    }
   ],
   "source": [
    "roi = []\n",
    "roi.append(boxes_np[3][1]+(boxes_np[3][3]-boxes_np[3][1])//2-150)\n",
    "roi.append(boxes_np[3][0]+(boxes_np[3][2]-boxes_np[3][1])//2-150)\n",
    "roi.append(boxes_np[3][1]+(boxes_np[3][3]-boxes_np[3][1])//2+150)\n",
    "roi.append(boxes_np[3][0]+(boxes_np[3][2]-boxes_np[3][1])//2+150)\n",
    "roi"
   ]
  },
  {
   "cell_type": "markdown",
   "metadata": {},
   "source": [
    "GGCNN2"
   ]
  },
  {
   "cell_type": "code",
   "execution_count": 29,
   "metadata": {},
   "outputs": [
    {
     "name": "stdout",
     "output_type": "stream",
     "text": [
      "True\n",
      "480 640\n"
     ]
    }
   ],
   "source": [
    "print(from_file)\n",
    "if from_file == True:\n",
    "    # RGB img load-> El metodo ya esta definido en utils.dataset_processing import image\n",
    "    # rgb_img = image.Image.from_file('/home/felipe/code/APC/ggcnn/datasets/cornell/03/pcd0313r.png')\n",
    "\n",
    "    # Depth igm load -> El metodo ya esta definido en utils.dataset_processing import image DepthImage\n",
    "    # From .tiff image\n",
    "    # depth_img = image.DepthImage.from_tiff('/home/felipe/code/APC/ggcnn/datasets/cornell/03/pcd0313d.tiff')\n",
    "    # From .pcd point cloud\n",
    "    depth_img = image.DepthImage.from_tiff('depth6.tiff')\n",
    "    # depth_img_pcd = image.DepthImage.from_pcd('/home/felipe/code/APC/ggcnn/datasets/cornell/03/pcd0313.txt',depth_img.__getattr__('shape'))\n",
    "\n",
    "    # Get depth image attributes\n",
    "    imh, imw = depth_img.__getattr__('shape')\n",
    "    print(imh, imw)"
   ]
  },
  {
   "cell_type": "code",
   "execution_count": 30,
   "metadata": {},
   "outputs": [
    {
     "name": "stderr",
     "output_type": "stream",
     "text": [
      "/home/felipe/.local/lib/python3.8/site-packages/torch/serialization.py:786: SourceChangeWarning: source code of class 'torch.nn.modules.container.Sequential' has changed. you can retrieve the original source code by accessing the object's source attribute or set `torch.nn.Module.dump_patches = True` and use the patch tool to revert the changes.\n",
      "  warnings.warn(msg, SourceChangeWarning)\n",
      "/home/felipe/.local/lib/python3.8/site-packages/torch/serialization.py:786: SourceChangeWarning: source code of class 'torch.nn.modules.conv.Conv2d' has changed. you can retrieve the original source code by accessing the object's source attribute or set `torch.nn.Module.dump_patches = True` and use the patch tool to revert the changes.\n",
      "  warnings.warn(msg, SourceChangeWarning)\n",
      "/home/felipe/.local/lib/python3.8/site-packages/torch/serialization.py:786: SourceChangeWarning: source code of class 'torch.nn.modules.activation.ReLU' has changed. you can retrieve the original source code by accessing the object's source attribute or set `torch.nn.Module.dump_patches = True` and use the patch tool to revert the changes.\n",
      "  warnings.warn(msg, SourceChangeWarning)\n",
      "/home/felipe/.local/lib/python3.8/site-packages/torch/serialization.py:786: SourceChangeWarning: source code of class 'torch.nn.modules.pooling.MaxPool2d' has changed. you can retrieve the original source code by accessing the object's source attribute or set `torch.nn.Module.dump_patches = True` and use the patch tool to revert the changes.\n",
      "  warnings.warn(msg, SourceChangeWarning)\n",
      "/home/felipe/.local/lib/python3.8/site-packages/torch/serialization.py:786: SourceChangeWarning: source code of class 'torch.nn.modules.conv.ConvTranspose2d' has changed. you can retrieve the original source code by accessing the object's source attribute or set `torch.nn.Module.dump_patches = True` and use the patch tool to revert the changes.\n",
      "  warnings.warn(msg, SourceChangeWarning)\n"
     ]
    }
   ],
   "source": [
    "###################################################################################################\n",
    "# GGCNN\n",
    "###################################################################################################\n",
    "# Device selecion (device 2 - not interfering with AS)\n",
    "device2 = torch.device(\"cuda:0\" if torch.cuda.is_available() else \"cpu\")\n",
    "out_size = 300\n",
    "y_off = 0\n",
    "x_off = 0\n",
    "# GGCNN Model\n",
    "MODEL_FILE = 'ggcnn/ggcnn2_093'\n",
    "model2 = torch.load(MODEL_FILE, map_location=device2)\n",
    "\n",
    "# depth_crop tiene que ser un array \n",
    "depth_crop = np.asarray(depth_img)\n",
    "depth_crop2 = np.asarray(depth_img)\n",
    "# The ROI region is crop to the depth image\n",
    "depth_crop = depth_crop[roi[1]:roi[3], roi[0]:roi[2]]\n",
    "%matplotlib qt\n",
    "plt.imshow(depth_img)\n",
    "plt.axis('off')\n",
    "plt.show()"
   ]
  },
  {
   "cell_type": "code",
   "execution_count": 31,
   "metadata": {},
   "outputs": [
    {
     "data": {
      "image/png": "[encoded data removed]",
      "text/plain": [
       "<Figure size 432x288 with 1 Axes>"
      ]
     },
     "metadata": {
      "needs_background": "light"
     },
     "output_type": "display_data"
    }
   ],
   "source": [
    "# Mask selection and populationg with same distance to improve performace on GGCNN2\n",
    "mask = masks[box_index].cpu().detach().numpy()\n",
    "# d = depth_crop2[160,190]\n",
    "d = 255\n",
    "for j in range(depth_crop2.shape[0]):\n",
    "    for i in range(depth_crop2.shape[1]):\n",
    "        if not mask[j][i]:\n",
    "            depth_crop2[j][i] = d\n",
    "\n",
    "\n",
    "depth_crop = depth_crop2[roi[1]:roi[3],roi[0]:roi[2]]\n",
    "%matplotlib inline\n",
    "plt.imshow(depth_crop)\n",
    "plt.axis('off')\n",
    "plt.show()\n"
   ]
  },
  {
   "cell_type": "code",
   "execution_count": 12,
   "metadata": {},
   "outputs": [
    {
     "name": "stdout",
     "output_type": "stream",
     "text": [
      "(173, 173)\n",
      "1: 0.5ms\n",
      "2: 0.1ms\n",
      "3: 0.1ms\n"
     ]
    }
   ],
   "source": [
    "depthT, depthn = grasp_img_preprocessing(depth_crop)"
   ]
  },
  {
   "cell_type": "code",
   "execution_count": 13,
   "metadata": {},
   "outputs": [
    {
     "name": "stderr",
     "output_type": "stream",
     "text": [
      "/tmp/ipykernel_141310/2383677106.py:41: DeprecationWarning: Please use `gaussian_filter` from the `scipy.ndimage` namespace, the `scipy.ndimage.filters` namespace is deprecated.\n",
      "  points_out = ndimage.filters.gaussian_filter(points_out, filters[0])  # 3.0\n",
      "/tmp/ipykernel_141310/2383677106.py:42: DeprecationWarning: Please use `gaussian_filter` from the `scipy.ndimage` namespace, the `scipy.ndimage.filters` namespace is deprecated.\n",
      "  ang_out = ndimage.filters.gaussian_filter(ang_out, filters[1])\n",
      "/tmp/ipykernel_141310/2383677106.py:43: DeprecationWarning: Please use `gaussian_filter` from the `scipy.ndimage` namespace, the `scipy.ndimage.filters` namespace is deprecated.\n",
      "  width_out = ndimage.filters.gaussian_filter(width_out, filters[2])\n"
     ]
    },
    {
     "data": {
      "image/png": "[encoded data removed]",
      "text/plain": [
       "<Figure size 432x288 with 1 Axes>"
      ]
     },
     "metadata": {
      "needs_background": "light"
     },
     "output_type": "display_data"
    }
   ],
   "source": [
    "# Grasp Predictions\n",
    "points_out, ang_out, width_out = grasp_prediction(depthT)\n",
    "# Plotting\n",
    "%matplotlib inline\n",
    "plt.imshow(points_out,cmap='jet')\n",
    "plt.axis('off')\n",
    "plt.show()"
   ]
  },
  {
   "cell_type": "code",
   "execution_count": 14,
   "metadata": {},
   "outputs": [
    {
     "name": "stdout",
     "output_type": "stream",
     "text": [
      "len 1\n",
      "localn [[81. 70.]]\n",
      "{'q': 0.82161325, 'pix': [81, 70], 'ang': -4.934169637552231, 'width': 19.828289}\n"
     ]
    },
    {
     "name": "stderr",
     "output_type": "stream",
     "text": [
      "/home/felipe/code/APC/grasping/ggcnn/utils/dataset_processing/grasp.py:428: FutureWarning: indices argument is deprecated and will be removed in version 0.20. To avoid this warning, please do not use the indices argument. Please see peak_local_max documentation for more details.\n",
      "  is_peak = peak_local_max(q_img, min_distance=15, threshold_abs=threshold, indices=False)\n"
     ]
    }
   ],
   "source": [
    "# Grasp Detection\n",
    "grasps = grasp.detect_grasps(points_out, ang_out, 0.3, width_img=width_out, no_grasps=10)\n",
    "grasps_info = evaluation1.grasp_info(width_out, points_out, ang_out, grasps)\n",
    "for g in grasps_info:\n",
    "    # Pixels accorging to the segmented region, not the complete image\n",
    "    print(g)"
   ]
  },
  {
   "cell_type": "code",
   "execution_count": 69,
   "metadata": {},
   "outputs": [
    {
     "data": {
      "image/png": "[encoded data removed]",
      "text/plain": [
       "<Figure size 432x288 with 1 Axes>"
      ]
     },
     "metadata": {
      "needs_background": "light"
     },
     "output_type": "display_data"
    }
   ],
   "source": [
    "# Grasps plotting\n",
    "test = points_out.copy()\n",
    "for g in grasps_info:\n",
    "    draw_angled_rec(g['pix'][1],g['pix'][0],g['width'],g['width'],g['ang'],(0.1,0.1,0),test)"
   ]
  },
  {
   "cell_type": "code",
   "execution_count": 70,
   "metadata": {},
   "outputs": [
    {
     "name": "stdout",
     "output_type": "stream",
     "text": [
      "x   y\n",
      "345 265\n"
     ]
    }
   ],
   "source": [
    "# Grasps pixels on the original img\n",
    "g_num = 0\n",
    "pix_x = roi[0]+grasps_info[g_num]['pix'][1]\n",
    "pix_y = roi[1]+grasps_info[g_num]['pix'][0]\n",
    "g_angle = -grasps_info[g_num]['ang']\n",
    "print('x',' ','y')\n",
    "print(pix_x, pix_y)"
   ]
  },
  {
   "cell_type": "markdown",
   "metadata": {},
   "source": [
    "Perception analysis"
   ]
  },
  {
   "cell_type": "code",
   "execution_count": 60,
   "metadata": {},
   "outputs": [
    {
     "name": "stdout",
     "output_type": "stream",
     "text": [
      "x(m): 0.45244719169724684 y(m): 0.17790777777797825 angle(deg): 1.9506386342624076\n"
     ]
    }
   ],
   "source": [
    "# Shorten print matrices\n",
    "np.set_printoptions(suppress=True)\n",
    "\n",
    "# Camera matrix  calibrations\n",
    "# Real Kinect\n",
    "# A = np.array([[507.441511, 0, 307.533215],[0, 509.477448, 270.604765],[0, 0, 1]])\n",
    "# Default Kinect Package\n",
    "# A = np.array([[525, 0, 319.5],[0, 525, 239.5],[0, 0, 1]])\n",
    "# Gazebo calib \n",
    "A = np.array([[554.2547, 0, 320.5],[0, 554.2547, 240.5],[0, 0, 1]]) \n",
    "\n",
    "# MTH for the camera (only applies on my  layout)\n",
    "Tcam = transl(0.49,0.25,0).dot(trotz(np.pi/2)).dot(trotx(np.pi))\n",
    "\n",
    "# Conversion to distance (z = 1m)\n",
    "# TODO use the depth image to get distance to the table\n",
    "x_cam = (pix_x-A[0,2])/A[0,0]\n",
    "y_cam = (pix_y-A[1,2])/A[1,1]\n",
    "Pcam = np.array([x_cam, y_cam, 1, 1])\n",
    "Pori = Tcam.dot(Pcam)\n",
    "print(\"x(m):\", Pori[0]-0.015, \"y(m):\", Pori[1]+0.01, \"angle(deg):\", g_angle)\n",
    "# Ajuste de las camaras - diferencia de los puntos  focales\n"
   ]
  },
  {
   "cell_type": "code",
   "execution_count": 150,
   "metadata": {},
   "outputs": [],
   "source": [
    "pub = rospy.Publisher('/gripper_controller/command', Float64, queue_size=10)\n",
    "pub.publish(1)\n",
    "    "
   ]
  },
  {
   "cell_type": "code",
   "execution_count": null,
   "metadata": {},
   "outputs": [],
   "source": []
  },
  {
   "cell_type": "code",
   "execution_count": 65,
   "metadata": {},
   "outputs": [],
   "source": [
    "topics = rospy.get_published_topics()"
   ]
  },
  {
   "cell_type": "code",
   "execution_count": 74,
   "metadata": {},
   "outputs": [
    {
     "name": "stdout",
     "output_type": "stream",
     "text": [
      "ok\n"
     ]
    }
   ],
   "source": [
    "for topic in topics:\n",
    "    if '/gripper_controller/command' in topic:\n",
    "        print('ok')"
   ]
  }
 ],
 "metadata": {
  "interpreter": {
   "hash": "e7370f93d1d0cde622a1f8e1c04877d8463912d04d973331ad4851f04de6915a"
  },
  "kernelspec": {
   "display_name": "Python 3.8.10 64-bit",
   "language": "python",
   "name": "python3"
  },
  "language_info": {
   "codemirror_mode": {
    "name": "ipython",
    "version": 3
   },
   "file_extension": ".py",
   "mimetype": "text/x-python",
   "name": "python",
   "nbconvert_exporter": "python",
   "pygments_lexer": "ipython3",
   "version": "3.8.10"
  },
  "orig_nbformat": 4
 },
 "nbformat": 4,
 "nbformat_minor": 2
}
