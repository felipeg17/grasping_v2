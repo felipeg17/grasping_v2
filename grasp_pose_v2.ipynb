{
 "cells": [
  {
   "cell_type": "code",
   "execution_count": 7,
   "metadata": {},
   "outputs": [],
   "source": [
    "#! /usr/bin/env python\n",
    "# general\n",
    "import os\n",
    "from os.path import join\n",
    "import sys\n",
    "from pathlib import Path\n",
    "import math\n",
    "import copy\n",
    "import time\n",
    "import glob\n",
    "\n",
    "# ml\n",
    "import torch\n",
    "import torch.backends.cudnn as cudnn\n",
    "\n",
    "# Plot\n",
    "from matplotlib import pyplot as plt\n",
    "import numpy as np\n",
    "\n",
    "# cv\n",
    "import cv2\n",
    "import scipy.ndimage as ndimage\n",
    "# from cv_bridge import CvBridge, CvBridgeError\n",
    "\n",
    "# yolov5 imports\n",
    "from models.common import DetectMultiBackend\n",
    "from utils.datasets import IMG_FORMATS, VID_FORMATS, LoadImages, LoadStreams\n",
    "from utils.general import (LOGGER, check_file, check_img_size, check_imshow, check_requirements, colorstr,\n",
    "                           increment_path, non_max_suppression, print_args, scale_coords, strip_optimizer, xyxy2xywh)\n",
    "# from utils.plots import Annotator, colors, save_one_roi\n",
    "from utils.torch_utils import select_device, time_sync\n",
    "\n",
    "\n",
    "# ggcnnv2 imports\n",
    "from ggcnn.models import ggcnn2\n",
    "from ggcnn.utils.dataset_processing import grasp, image, evaluation1\n",
    "from ggcnn.utils.dataset_processing.grasp import GraspRectangle\n",
    "from ggcnn.models.common import post_process_output\n",
    "from ggcnn.utils.timeit import TimeIt\n",
    "\n",
    "# agnostic\n",
    "from agnostic_segmentation import agnostic_segmentation\n",
    "from agnostic_segmentation import compute_grasp"
   ]
  },
  {
   "cell_type": "code",
   "execution_count": 16,
   "metadata": {},
   "outputs": [
    {
     "name": "stderr",
     "output_type": "stream",
     "text": [
      "[Checkpointer] Loading from /home/felipe/code/APC/grasping/models/FAT_trained_Ml2R_bin_fine_tuned.pth ...\n"
     ]
    },
    {
     "name": "stdout",
     "output_type": "stream",
     "text": [
      "[[ 74   0 296 124]\n",
      " [283 255 331 304]\n",
      " [220 160 288 265]]\n"
     ]
    }
   ],
   "source": [
    "# ROOT = '/home/felipe/code/APC/grasping/'\n",
    "# source=ROOT+'content/datasets/cornell_v2/test/images/pcd0313r_png.rf.8933460d094ee0d8392cd86f11adcca3.jpg'\n",
    "model_path = '/home/felipe/code/APC/grasping/models/FAT_trained_Ml2R_bin_fine_tuned.pth'\n",
    "# rgb_img = cv2.imread(source)\n",
    "mesa = [170, 150, 460, 360]\n",
    "rgb_img = cv2.imread('rgb.jpg')\n",
    "# rgb_img = rgb_img[mesa[1]:mesa[3]+1, mesa[0]:mesa[2]+1]\n",
    "predictions = agnostic_segmentation.segment_image(rgb_img, model_path)\n",
    "boxes = predictions['instances'].pred_boxes.tensor\n",
    "boxes_np = boxes.cpu().detach().numpy().astype(int)\n",
    "masks = predictions['instances'].pred_masks\n",
    "seg_img = agnostic_segmentation.draw_segmented_image(rgb_img, predictions)\n",
    "print(boxes_np)\n",
    "# TODO usar la mascara para segmetar la imagen y rellenar "
   ]
  },
  {
   "cell_type": "code",
   "execution_count": 18,
   "metadata": {},
   "outputs": [
    {
     "name": "stdout",
     "output_type": "stream",
     "text": [
      "[280 252 334 307]\n"
     ]
    }
   ],
   "source": [
    "%matplotlib qt\n",
    "box_index = 1\n",
    "zoom_p = 0.01\n",
    "roi = (boxes_np[box_index]*np.array([1-zoom_p, 1-zoom_p, 1+zoom_p, 1+zoom_p])).astype(int)\n",
    "print(roi)\n",
    "plt.subplot(1,3,1)\n",
    "plt.imshow(seg_img[:,:,::-1])\n",
    "plt.axis('off')\n",
    "plt.subplot(1,3,2)\n",
    "plt.imshow(cv2.imread('rgb.jpg')[roi[1]:roi[3], roi[0]:roi[2]])\n",
    "plt.axis('off')\n",
    "plt.subplot(1,3,3)\n",
    "plt.imshow(masks[box_index].cpu().detach().numpy()[boxes_np[box_index][1]:boxes_np[box_index][3],\n",
    "boxes_np[box_index][0]:boxes_np[box_index][2]], cmap='gray')\n",
    "plt.axis('off')\n",
    "plt.show()"
   ]
  },
  {
   "cell_type": "code",
   "execution_count": 19,
   "metadata": {},
   "outputs": [],
   "source": [
    "%matplotlib qt\n",
    "plt.imshow(rgb_img[:,:,::-1])\n",
    "plt.show()"
   ]
  },
  {
   "cell_type": "code",
   "execution_count": 20,
   "metadata": {},
   "outputs": [
    {
     "name": "stdout",
     "output_type": "stream",
     "text": [
      "480 640\n"
     ]
    },
    {
     "name": "stderr",
     "output_type": "stream",
     "text": [
      "/home/felipe/.local/lib/python3.8/site-packages/torch/serialization.py:786: SourceChangeWarning: source code of class 'torch.nn.modules.container.Sequential' has changed. you can retrieve the original source code by accessing the object's source attribute or set `torch.nn.Module.dump_patches = True` and use the patch tool to revert the changes.\n",
      "  warnings.warn(msg, SourceChangeWarning)\n",
      "/home/felipe/.local/lib/python3.8/site-packages/torch/serialization.py:786: SourceChangeWarning: source code of class 'torch.nn.modules.conv.Conv2d' has changed. you can retrieve the original source code by accessing the object's source attribute or set `torch.nn.Module.dump_patches = True` and use the patch tool to revert the changes.\n",
      "  warnings.warn(msg, SourceChangeWarning)\n",
      "/home/felipe/.local/lib/python3.8/site-packages/torch/serialization.py:786: SourceChangeWarning: source code of class 'torch.nn.modules.activation.ReLU' has changed. you can retrieve the original source code by accessing the object's source attribute or set `torch.nn.Module.dump_patches = True` and use the patch tool to revert the changes.\n",
      "  warnings.warn(msg, SourceChangeWarning)\n",
      "/home/felipe/.local/lib/python3.8/site-packages/torch/serialization.py:786: SourceChangeWarning: source code of class 'torch.nn.modules.pooling.MaxPool2d' has changed. you can retrieve the original source code by accessing the object's source attribute or set `torch.nn.Module.dump_patches = True` and use the patch tool to revert the changes.\n",
      "  warnings.warn(msg, SourceChangeWarning)\n",
      "/home/felipe/.local/lib/python3.8/site-packages/torch/serialization.py:786: SourceChangeWarning: source code of class 'torch.nn.modules.conv.ConvTranspose2d' has changed. you can retrieve the original source code by accessing the object's source attribute or set `torch.nn.Module.dump_patches = True` and use the patch tool to revert the changes.\n",
      "  warnings.warn(msg, SourceChangeWarning)\n"
     ]
    },
    {
     "data": {
      "image/png": "[encoded data removed]",
      "text/plain": [
       "<Figure size 432x288 with 1 Axes>"
      ]
     },
     "metadata": {
      "needs_background": "light"
     },
     "output_type": "display_data"
    }
   ],
   "source": [
    "###################################################################################################\n",
    "# GGCNN\n",
    "###################################################################################################\n",
    "device2 = torch.device(\"cuda:0\" if torch.cuda.is_available() else \"cpu\")\n",
    "crop_size = 300\n",
    "out_size = crop_size\n",
    "y_off = 0\n",
    "x_off = 0\n",
    "MODEL_FILE = 'ggcnn/ggcnn2_093'\n",
    "model2 = torch.load(MODEL_FILE, map_location=device2)\n",
    "\n",
    "# Carga la imagen RGB -> El metodo ya esta definido en utils.dataset_processing import image\n",
    "# rgb_img = image.Image.from_file('/home/felipe/code/APC/ggcnn/datasets/cornell/03/pcd0313r.png')\n",
    "\n",
    "# Carga la imagen de profundidad -> El metodo ya esta definido en utils.dataset_processing import image DepthImage\n",
    "# Se puede cargar desde el tiff\n",
    "# depth_img = image.DepthImage.from_tiff('/home/felipe/code/APC/ggcnn/datasets/cornell/03/pcd0313d.tiff')\n",
    "depth_img = image.DepthImage.from_tiff('depth.tiff')\n",
    "# Se puede cargar desde el pcd\n",
    "# depth_img_pcd = image.DepthImage.from_pcd('/home/felipe/code/APC/ggcnn/datasets/cornell/03/pcd0313.txt',depth_img.__getattr__('shape'))\n",
    "\n",
    "# La funcion de __getattr__ permite traer propiedades del objeto imagen\n",
    "imh, imw = depth_img.__getattr__('shape')\n",
    "print(imh, imw)\n",
    "\n",
    "# depth_crop tiene que ser un array \n",
    "depth_crop = np.asarray(depth_img)\n",
    "depth_crop2 = np.asarray(depth_img)\n",
    "# The ROI region is crop to the depth image\n",
    "depth_crop = depth_crop[roi[1]:roi[3], roi[0]:roi[2]]\n",
    "%matplotlib inline\n",
    "plt.imshow(depth_crop)\n",
    "plt.axis('off')\n",
    "plt.show()"
   ]
  },
  {
   "cell_type": "code",
   "execution_count": 21,
   "metadata": {},
   "outputs": [
    {
     "name": "stdout",
     "output_type": "stream",
     "text": [
      "1: 8.4ms\n",
      "(57, 56)\n",
      "(57, 56)\n",
      "2: 0.0ms\n",
      "3: 0.0ms\n"
     ]
    }
   ],
   "source": [
    "# Agrega un borde de un pixel a la imagen - para aplicar filtros\n",
    "# Crea una mascara verificando si hay nan (en general dara ceros)\n",
    "with TimeIt('1'):\n",
    "    depth_crop = cv2.copyMakeBorder(depth_crop, 1, 1, 1, 1, cv2.BORDER_DEFAULT)\n",
    "    depth_nan_mask = np.isnan(depth_crop).astype(np.uint8)\n",
    "depth_crop[0,0]\n",
    "print(depth_crop.shape)\n",
    "print(depth_nan_mask.shape)\n",
    "# Si encuentra algun valor que sea nan lo vuelve cero \n",
    "with TimeIt('2'):\n",
    "    depth_crop[depth_nan_mask==1] = 0\n",
    "# Normalizacion\n",
    "with TimeIt('3'):\n",
    "    # Scale to keep as float, but has to be in bounds -1:1 to keep opencv happy.\n",
    "    depth_scale = np.abs(depth_crop).max()\n",
    "    depth_crop = depth_crop.astype(np.float32) / depth_scale \n",
    "# Elimina trazos u otras imperfecciones\n",
    "# with TimeIt('Inpainting'):\n",
    "    # depth_crop = cv2.inpaint(depth_crop, depth_nan_mask, 1, cv2.INPAINT_NS)\n",
    "# Restaura dimensiones y valores\n",
    "depth_crop = depth_crop[1:-1, 1:-1] # quita el borde de 1 pixel\n",
    "depth_crop = depth_crop * depth_scale\n",
    "# Normaliza valores con el promedio en el rango [-1 1]\n",
    "depth = depth_crop\n",
    "depth = np.clip((depth - depth.mean()), -1, 1)\n",
    "depthn = depth.copy()\n",
    "# Convierte la imagen de profundidad a un tensor para usar en torch\n",
    "depthT = torch.from_numpy(depth.reshape(1, 1, depth.shape[0], depth.shape[1]).astype(np.float32)).to(device2)"
   ]
  },
  {
   "cell_type": "code",
   "execution_count": 22,
   "metadata": {},
   "outputs": [
    {
     "name": "stderr",
     "output_type": "stream",
     "text": [
      "/tmp/ipykernel_17281/541446558.py:13: DeprecationWarning: Please use `gaussian_filter` from the `scipy.ndimage` namespace, the `scipy.ndimage.filters` namespace is deprecated.\n",
      "  points_out = ndimage.filters.gaussian_filter(points_out, filters[0])  # 3.0\n",
      "/tmp/ipykernel_17281/541446558.py:14: DeprecationWarning: Please use `gaussian_filter` from the `scipy.ndimage` namespace, the `scipy.ndimage.filters` namespace is deprecated.\n",
      "  ang_out = ndimage.filters.gaussian_filter(ang_out, filters[1])\n",
      "/tmp/ipykernel_17281/541446558.py:15: DeprecationWarning: Please use `gaussian_filter` from the `scipy.ndimage` namespace, the `scipy.ndimage.filters` namespace is deprecated.\n",
      "  width_out = ndimage.filters.gaussian_filter(width_out, filters[2])\n"
     ]
    },
    {
     "data": {
      "image/png": "[encoded data removed]",
      "text/plain": [
       "<Figure size 432x288 with 1 Axes>"
      ]
     },
     "metadata": {
      "needs_background": "light"
     },
     "output_type": "display_data"
    }
   ],
   "source": [
    "# no_grad se utiliza para validaciones, acelera calculos y reduce memoria\n",
    "with torch.no_grad():\n",
    "    # Se realiza la prediccion de la red\n",
    "    pred_out = model2(depthT)\n",
    "# Convierte el tensor de pythorch a un array de np, eliminando los ejes 1,1\n",
    "points_out = pred_out[0].cpu().numpy().squeeze()\n",
    "cos_out = pred_out[1].cpu().numpy().squeeze()\n",
    "sin_out = pred_out[2].cpu().numpy().squeeze()\n",
    "ang_out = np.arctan2(sin_out, cos_out) / 2.0\n",
    "\n",
    "width_out = pred_out[3].cpu().numpy().squeeze() * 70.0  # Scaled 0-150:0-1\n",
    "filters=(5.0, 4.0, 2.0)\n",
    "points_out = ndimage.filters.gaussian_filter(points_out, filters[0])  # 3.0\n",
    "ang_out = ndimage.filters.gaussian_filter(ang_out, filters[1])\n",
    "width_out = ndimage.filters.gaussian_filter(width_out, filters[2])\n",
    "points_out = np.clip(points_out, 0.0, 1.0-1e-3)\n",
    "%matplotlib inline\n",
    "plt.imshow(points_out,cmap='jet')\n",
    "plt.axis('off')\n",
    "plt.show()"
   ]
  },
  {
   "cell_type": "code",
   "execution_count": 24,
   "metadata": {},
   "outputs": [
    {
     "name": "stdout",
     "output_type": "stream",
     "text": [
      "len 1\n",
      "localn [[         26          32]]\n",
      "{'q': 0.16656621, 'pix': [26, 32], 'ang': 1.3338775681304278, 'width': 9.949525}\n"
     ]
    }
   ],
   "source": [
    "grasps = grasp.detect_grasps(points_out, ang_out, 0.15, width_img=width_out, no_grasps=10)\n",
    "# maxgrasps = evaluation1.plot_output(width_out, depth, points_out, ang_out, grasps, depth_crop2, crop_size, y_off, x_off)\n",
    "grasps_info = evaluation1.grasp_info(width_out, points_out, ang_out, grasps)\n",
    "for g in grasps_info:\n",
    "    print(g)\n"
   ]
  },
  {
   "cell_type": "code",
   "execution_count": 25,
   "metadata": {},
   "outputs": [],
   "source": [
    "def draw_angled_rec(x0, y0, width, height, angle, color, img):\n",
    "    _angle = angle * math.pi / 180.0\n",
    "    b = math.cos(_angle) * 0.5\n",
    "    a = math.sin(_angle) * 0.5\n",
    "    pt0 = (int(x0 - a * height - b * width),\n",
    "           int(y0 + b * height - a * width))\n",
    "    pt1 = (int(x0 + a * height - b * width),\n",
    "           int(y0 - b * height - a * width))\n",
    "    pt2 = (int(2 * x0 - pt0[0]), int(2 * y0 - pt0[1]))\n",
    "    pt3 = (int(2 * x0 - pt1[0]), int(2 * y0 - pt1[1]))\n",
    "\n",
    "    cv2.line(img, pt0, pt1, (), 1)\n",
    "    cv2.line(img, pt1, pt2, color, 1)\n",
    "    cv2.line(img, pt2, pt3, color, 1)\n",
    "    cv2.line(img, pt3, pt0, color, 1)\n",
    "    plt.imshow(img)\n",
    "    plt.show()"
   ]
  },
  {
   "cell_type": "code",
   "execution_count": 26,
   "metadata": {},
   "outputs": [
    {
     "data": {
      "image/png": "[encoded data removed]",
      "text/plain": [
       "<Figure size 432x288 with 1 Axes>"
      ]
     },
     "metadata": {
      "needs_background": "light"
     },
     "output_type": "display_data"
    }
   ],
   "source": [
    "test = points_out.copy()\n",
    "for g in grasps_info:\n",
    "    draw_angled_rec(g['pix'][1],g['pix'][0],g['width'],g['width'],g['ang'],(0.1,0.1,0),test)"
   ]
  },
  {
   "cell_type": "code",
   "execution_count": 27,
   "metadata": {},
   "outputs": [
    {
     "name": "stdout",
     "output_type": "stream",
     "text": [
      "x   y\n",
      "312 278\n"
     ]
    }
   ],
   "source": [
    "# print(roi[:2])\n",
    "# print(grasps_info[0]['pix'])\n",
    "g_num = 0\n",
    "print('x',' ','y')\n",
    "print(roi[0]+grasps_info[g_num]['pix'][1],roi[1]+grasps_info[g_num]['pix'][0])"
   ]
  }
 ],
 "metadata": {
  "interpreter": {
   "hash": "e7370f93d1d0cde622a1f8e1c04877d8463912d04d973331ad4851f04de6915a"
  },
  "kernelspec": {
   "display_name": "Python 3.8.10 64-bit",
   "language": "python",
   "name": "python3"
  },
  "language_info": {
   "codemirror_mode": {
    "name": "ipython",
    "version": 3
   },
   "file_extension": ".py",
   "mimetype": "text/x-python",
   "name": "python",
   "nbconvert_exporter": "python",
   "pygments_lexer": "ipython3",
   "version": "3.8.10"
  },
  "orig_nbformat": 4
 },
 "nbformat": 4,
 "nbformat_minor": 2
}
